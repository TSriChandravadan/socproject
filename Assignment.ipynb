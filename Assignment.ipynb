{
 "cells": [
  {
   "cell_type": "markdown",
   "metadata": {},
   "source": [
    "## Working with Student Records\n",
    "\n",
    "Use the data in **student_records.csv** to complete the given tasks. Do not include any external libraries. Use a Python dictionary if required.\n",
    "\n",
    "### Reference\n",
    "- [Python Dictionaries](https://www.w3schools.com/python/python_dictionaries.asp)\n"
   ]
  },
  {
   "cell_type": "markdown",
   "metadata": {},
   "source": [
    "#### 2.a: open the student_records.csv file and print out the first 10 rows"
   ]
  },
  {
   "cell_type": "code",
   "execution_count": 23,
   "metadata": {},
   "outputs": [
    {
     "name": "stdout",
     "output_type": "stream",
     "text": [
      "   roll_number department  credit course_name      course_type grade\n",
      "0       588946         MA       3       EC250  hasmed_elective    AB\n",
      "1       145372         EP       4       EP407  hasmed_elective    CC\n",
      "2       834515         MA       8       EP885  hasmed_elective    BB\n",
      "3       344265        CSE       6      CSE699          honours    AB\n",
      "4       358405         MA       3       EE460            minor    AP\n",
      "5       781075         CE       8       CE540          honours    CC\n",
      "6       180828        CSE       6       CE880            minor    AB\n",
      "7       981238         MM       4      CSE226            minor    AB\n",
      "8       836881         MM       8       MM530             core    AA\n",
      "9       310604         EE       8       EE202             core    AB\n"
     ]
    }
   ],
   "source": [
    "#TODO\n",
    "\n",
    "import pandas as pd\n",
    "student_data = pd.read_csv('student_records.csv')\n",
    "print(student_data.head(10))\n",
    "\n"
   ]
  },
  {
   "cell_type": "markdown",
   "metadata": {},
   "source": [
    "#### 2.b: Print out the total credits and calculte CPI of each student. \n",
    "CPI is the weighted average of core courses, and electives (weights being the letter grades converted to number AP,AA=10, AB=9, BB=8, BC=7, CC=6)"
   ]
  },
  {
   "cell_type": "code",
   "execution_count": 24,
   "metadata": {},
   "outputs": [
    {
     "name": "stdout",
     "output_type": "stream",
     "text": [
      "Roll: 124663, Total Credits: 229, CPI: 8.13\n",
      "Roll: 138296, Total Credits: 200, CPI: 8.28\n",
      "Roll: 143142, Total Credits: 234, CPI: 8.78\n",
      "Roll: 143856, Total Credits: 201, CPI: 8.49\n",
      "Roll: 144528, Total Credits: 228, CPI: 8.16\n",
      "Roll: 145372, Total Credits: 173, CPI: 7.75\n",
      "Roll: 150503, Total Credits: 173, CPI: 8.29\n",
      "Roll: 159438, Total Credits: 176, CPI: 8.38\n",
      "Roll: 180828, Total Credits: 177, CPI: 8.1\n",
      "Roll: 194063, Total Credits: 157, CPI: 8.14\n",
      "Roll: 199713, Total Credits: 172, CPI: 8.29\n",
      "Roll: 203200, Total Credits: 157, CPI: 8.79\n",
      "Roll: 207443, Total Credits: 161, CPI: 8.3\n",
      "Roll: 208100, Total Credits: 182, CPI: 8.59\n",
      "Roll: 214270, Total Credits: 229, CPI: 7.88\n",
      "Roll: 265922, Total Credits: 236, CPI: 8.35\n",
      "Roll: 270007, Total Credits: 241, CPI: 8.03\n",
      "Roll: 282482, Total Credits: 228, CPI: 8.29\n",
      "Roll: 283796, Total Credits: 211, CPI: 8.82\n",
      "Roll: 294697, Total Credits: 269, CPI: 8.57\n",
      "Roll: 301135, Total Credits: 206, CPI: 8.33\n",
      "Roll: 310604, Total Credits: 198, CPI: 8.33\n",
      "Roll: 327122, Total Credits: 246, CPI: 8.16\n",
      "Roll: 329535, Total Credits: 157, CPI: 8.23\n",
      "Roll: 344265, Total Credits: 153, CPI: 8.7\n",
      "Roll: 358405, Total Credits: 206, CPI: 8.59\n",
      "Roll: 362471, Total Credits: 214, CPI: 7.93\n",
      "Roll: 364146, Total Credits: 225, CPI: 8.4\n",
      "Roll: 379479, Total Credits: 260, CPI: 8.25\n",
      "Roll: 381227, Total Credits: 179, CPI: 8.22\n",
      "Roll: 381526, Total Credits: 160, CPI: 8.43\n",
      "Roll: 388969, Total Credits: 229, CPI: 8.31\n",
      "Roll: 391848, Total Credits: 217, CPI: 8.44\n",
      "Roll: 458200, Total Credits: 190, CPI: 8.39\n",
      "Roll: 461584, Total Credits: 234, CPI: 8.24\n",
      "Roll: 461971, Total Credits: 252, CPI: 8.29\n",
      "Roll: 465496, Total Credits: 168, CPI: 8.3\n",
      "Roll: 478606, Total Credits: 244, CPI: 8.32\n",
      "Roll: 482623, Total Credits: 254, CPI: 8.4\n",
      "Roll: 485484, Total Credits: 216, CPI: 8.36\n",
      "Roll: 488661, Total Credits: 248, CPI: 8.6\n",
      "Roll: 500658, Total Credits: 208, CPI: 8.17\n",
      "Roll: 517837, Total Credits: 205, CPI: 8.58\n",
      "Roll: 521087, Total Credits: 223, CPI: 7.91\n",
      "Roll: 534763, Total Credits: 158, CPI: 7.93\n",
      "Roll: 571782, Total Credits: 217, CPI: 8.42\n",
      "Roll: 572815, Total Credits: 212, CPI: 8.32\n",
      "Roll: 581065, Total Credits: 196, CPI: 8.22\n",
      "Roll: 581858, Total Credits: 216, CPI: 8.05\n",
      "Roll: 582912, Total Credits: 221, CPI: 8.66\n",
      "Roll: 588946, Total Credits: 199, CPI: 8.69\n",
      "Roll: 589528, Total Credits: 153, CPI: 8.73\n",
      "Roll: 597353, Total Credits: 200, CPI: 8.12\n",
      "Roll: 608522, Total Credits: 159, CPI: 8.61\n",
      "Roll: 608952, Total Credits: 251, CPI: 8.33\n",
      "Roll: 613401, Total Credits: 209, CPI: 8.44\n",
      "Roll: 626000, Total Credits: 210, CPI: 8.43\n",
      "Roll: 628849, Total Credits: 183, CPI: 8.72\n",
      "Roll: 630568, Total Credits: 217, CPI: 8.24\n",
      "Roll: 680096, Total Credits: 153, CPI: 8.05\n",
      "Roll: 681499, Total Credits: 234, CPI: 8.26\n",
      "Roll: 692318, Total Credits: 216, CPI: 8.17\n",
      "Roll: 703403, Total Credits: 254, CPI: 8.34\n",
      "Roll: 716985, Total Credits: 185, CPI: 8.18\n",
      "Roll: 718510, Total Credits: 184, CPI: 8.43\n",
      "Roll: 721490, Total Credits: 235, CPI: 8.34\n",
      "Roll: 733782, Total Credits: 169, CPI: 8.42\n",
      "Roll: 750259, Total Credits: 209, CPI: 8.35\n",
      "Roll: 773982, Total Credits: 264, CPI: 8.07\n",
      "Roll: 775967, Total Credits: 197, CPI: 8.43\n",
      "Roll: 781075, Total Credits: 246, CPI: 8.17\n",
      "Roll: 782129, Total Credits: 184, CPI: 8.54\n",
      "Roll: 787967, Total Credits: 192, CPI: 8.41\n",
      "Roll: 788020, Total Credits: 193, CPI: 8.02\n",
      "Roll: 810863, Total Credits: 192, CPI: 8.15\n",
      "Roll: 816041, Total Credits: 158, CPI: 8.46\n",
      "Roll: 834515, Total Credits: 199, CPI: 8.22\n",
      "Roll: 836431, Total Credits: 160, CPI: 7.9\n",
      "Roll: 836881, Total Credits: 246, CPI: 8.39\n",
      "Roll: 841365, Total Credits: 177, CPI: 7.99\n",
      "Roll: 845623, Total Credits: 237, CPI: 8.38\n",
      "Roll: 847809, Total Credits: 261, CPI: 8.21\n",
      "Roll: 851029, Total Credits: 161, CPI: 8.32\n",
      "Roll: 870642, Total Credits: 161, CPI: 8.02\n",
      "Roll: 871746, Total Credits: 216, CPI: 8.21\n",
      "Roll: 879634, Total Credits: 203, CPI: 8.74\n",
      "Roll: 881983, Total Credits: 169, CPI: 8.33\n",
      "Roll: 888886, Total Credits: 207, CPI: 8.27\n",
      "Roll: 907454, Total Credits: 245, CPI: 8.27\n",
      "Roll: 928288, Total Credits: 191, CPI: 8.51\n",
      "Roll: 955757, Total Credits: 251, CPI: 8.29\n",
      "Roll: 960395, Total Credits: 262, CPI: 8.63\n",
      "Roll: 970791, Total Credits: 220, CPI: 8.12\n",
      "Roll: 971123, Total Credits: 210, CPI: 7.96\n",
      "Roll: 973158, Total Credits: 193, CPI: 8.51\n",
      "Roll: 981238, Total Credits: 168, CPI: 8.24\n",
      "Roll: 986057, Total Credits: 199, CPI: 8.07\n",
      "Roll: 993835, Total Credits: 175, CPI: 8.43\n",
      "Roll: 995208, Total Credits: 157, CPI: 7.78\n",
      "Roll: 998293, Total Credits: 207, CPI: 8.7\n"
     ]
    }
   ],
   "source": [
    "# Calculate total credits and CPI for each student\n",
    "course_grade = {'AA': 10, 'AB': 9, 'BB': 8, 'BC': 7, 'CC': 6,'CD': 5, 'DD': 4, 'FF': 0, 'AP': 10, 'NP': 0}\n",
    "def calculate_cpi(student_data, course_grade):\n",
    "    result = {}\n",
    "    for roll, group in student_data.groupby('roll_number'):\n",
    "        total_credits = group['credit'].sum()\n",
    "        # Convert grades to numbers, treating 'AP' as 10 (like 'AA')\n",
    "        numeric_grades = group['grade'].map(course_grade).fillna(0)\n",
    "        weighted_sum = (group['credit'] * numeric_grades).sum()\n",
    "        cpi = weighted_sum / total_credits if total_credits > 0 else 0\n",
    "        result[roll] = {'total_credits': total_credits, 'CPI': round(cpi, 2)}\n",
    "    return result\n",
    "\n",
    "student_cpi = calculate_cpi(student_data, course_grade)\n",
    "for roll, info in student_cpi.items():\n",
    "    print(f\"Roll: {roll}, Total Credits: {info['total_credits']}, CPI: {info['CPI']}\")"
   ]
  },
  {
   "cell_type": "markdown",
   "metadata": {},
   "source": [
    "#### 2.c: Print out the roll numbers of all students who meet the graduation requirements \n",
    "Atleast 20 credist of core course, 15 credits of department elective, 10 credits of flexible elective and 5 credits of hasmed electives"
   ]
  },
  {
   "cell_type": "code",
   "execution_count": null,
   "metadata": {
    "vscode": {
     "languageId": "ruby"
    }
   },
   "outputs": [
    {
     "name": "stdout",
     "output_type": "stream",
     "text": [
      "Roll numbers meeting graduation requirements:\n",
      "[124663, 143142, 143856, 144528, 150503, 159438, 180828, 203200, 207443, 214270, 265922, 282482, 283796, 294697, 310604, 327122, 362471, 379479, 381227, 388969, 391848, 461971, 482623, 485484, 488661, 500658, 517837, 521087, 534763, 571782, 572815, 581065, 581858, 588946, 608522, 608952, 626000, 628849, 630568, 681499, 692318, 703403, 716985, 721490, 750259, 773982, 781075, 782129, 787967, 810863, 834515, 836881, 845623, 871746, 879634, 881983, 888886, 928288, 955757, 960395, 970791, 971123, 973158, 981238, 986057, 998293]\n"
     ]
    }
   ],
   "source": [
    "#TODO\n",
    "# Graduation requirements\n",
    "core_req = 20\n",
    "dept_elec_req = 15\n",
    "flex_elec_req = 10\n",
    "hasmed_elec_req = 5\n",
    "\n",
    "eligible_rolls = []\n",
    "for roll, group in student_data.groupby('roll_number'):\n",
    "    core_credits = group[group['course_type'] == 'core']['credit'].sum()\n",
    "    dept_elec_credits = group[group['course_type'] == 'department_elective']['credit'].sum()\n",
    "    flex_elec_credits = group[group['course_type'] == 'flexible_elective']['credit'].sum()\n",
    "    hasmed_elec_credits = group[group['course_type'] == 'hasmed_elective']['credit'].sum()\n",
    "    if (core_credits >= core_req and\n",
    "        dept_elec_credits >= dept_elec_req and\n",
    "        flex_elec_credits >= flex_elec_req and\n",
    "        hasmed_elec_credits >= hasmed_elec_req):\n",
    "        eligible_rolls.append(roll)\n",
    "\n",
    "print(\"Roll numbers meeting graduation requirements:\")\n",
    "print(eligible_rolls)"
   ]
  },
  {
   "cell_type": "markdown",
   "metadata": {},
   "source": [
    "#### 2.d: Print out the roll numbers of all students who completed a minor \n",
    "Atleast 10 credits with minor tag in a specific department"
   ]
  },
  {
   "cell_type": "code",
   "execution_count": 30,
   "metadata": {},
   "outputs": [
    {
     "name": "stdout",
     "output_type": "stream",
     "text": [
      "Roll numbers who completed a minor:\n",
      "[124663, 138296, 143142, 143856, 144528, 145372, 150503, 159438, 180828, 194063, 199713, 203200, 207443, 208100, 214270, 265922, 270007, 282482, 283796, 294697, 301135, 327122, 329535, 344265, 358405, 362471, 364146, 379479, 381227, 381526, 388969, 391848, 458200, 461584, 461971, 465496, 478606, 482623, 485484, 488661, 500658, 517837, 521087, 534763, 571782, 572815, 581065, 581858, 582912, 588946, 597353, 608522, 608952, 613401, 626000, 628849, 630568, 680096, 681499, 692318, 703403, 716985, 718510, 721490, 733782, 750259, 773982, 775967, 781075, 782129, 787967, 788020, 810863, 816041, 834515, 836431, 836881, 841365, 845623, 847809, 851029, 871746, 879634, 881983, 888886, 907454, 955757, 960395, 970791, 971123, 973158, 981238, 986057, 993835, 995208, 998293]\n"
     ]
    }
   ],
   "source": [
    "#TODO\n",
    "minor_rolls = []\n",
    "for roll, group in student_data.groupby('roll_number'):\n",
    "    # Group by department for minor courses\n",
    "    minor_credits_by_dept = group[group['course_type'] == 'minor'].groupby('department')['credit'].sum()\n",
    "    if any(minor_credits_by_dept >= 10):\n",
    "        minor_rolls.append(roll)\n",
    "\n",
    "print(\"Roll numbers who completed a minor:\")\n",
    "print(minor_rolls)"
   ]
  },
  {
   "cell_type": "markdown",
   "metadata": {},
   "source": [
    "#### 2.e: Print out the roll numbers of all students who completed a honours\n",
    "Atleast 10 credits with honours tag and 20 core credits"
   ]
  },
  {
   "cell_type": "code",
   "execution_count": 33,
   "metadata": {},
   "outputs": [
    {
     "name": "stdout",
     "output_type": "stream",
     "text": [
      "Roll numbers who completed a honours:\n",
      "[124663, 143142, 143856, 144528, 145372, 150503, 159438, 199713, 203200, 207443, 208100, 214270, 265922, 282482, 283796, 294697, 310604, 327122, 362471, 364146, 379479, 388969, 391848, 458200, 461971, 465496, 482623, 485484, 488661, 500658, 517837, 521087, 534763, 571782, 572815, 581065, 581858, 582912, 588946, 589528, 608522, 608952, 613401, 626000, 628849, 630568, 681499, 692318, 703403, 716985, 718510, 721490, 750259, 773982, 781075, 782129, 787967, 788020, 810863, 834515, 836881, 845623, 870642, 871746, 879634, 881983, 888886, 928288, 955757, 960395, 970791, 971123, 973158, 986057, 998293]\n"
     ]
    }
   ],
   "source": [
    "#TODO\n",
    "honours_rolls = []\n",
    "for roll, group in student_data.groupby('roll_number'):\n",
    "    honours_credits = group[group['course_type'] == 'honours']['credit'].sum()\n",
    "    core_credits = group[group['course_type'] == 'core']['credit'].sum()\n",
    "    if honours_credits >= 10 and core_credits >= 20:\n",
    "        honours_rolls.append(roll)\n",
    "\n",
    "print(\"Roll numbers who completed a honours:\")\n",
    "print(honours_rolls)"
   ]
  },
  {
   "cell_type": "markdown",
   "metadata": {},
   "source": [
    "# **Numpy**"
   ]
  },
  {
   "cell_type": "markdown",
   "metadata": {},
   "source": [
    "### Read Lisan_Al_Gaib.pdf for problem description and complete the following functions"
   ]
  },
  {
   "cell_type": "code",
   "execution_count": 55,
   "metadata": {},
   "outputs": [],
   "source": [
    "import time #to time the code execution\n",
    "import numpy as np\n",
    "import matplotlib.pyplot as plt"
   ]
  },
  {
   "cell_type": "code",
   "execution_count": 56,
   "metadata": {},
   "outputs": [],
   "source": [
    "### TODO 1\n",
    "### Load data from data_path\n",
    "### Check the input file spice_locations.txt to understand the Data Format\n",
    "### Return : np array of size Nx2\n",
    "def load_data(data_path):\n",
    "    data=np.loadtxt(data_path,delimiter=',')\n",
    "    return data"
   ]
  },
  {
   "cell_type": "code",
   "execution_count": 57,
   "metadata": {},
   "outputs": [],
   "source": [
    "### TODO 2.1\n",
    "### If init_centers is None, initialize the centers by selecting K data points at random without replacement\n",
    "### Else, use the centers provided in init_centers\n",
    "### Return : np array of size Kx2\n",
    "def initialise_centers(data, K, init_centers=None):\n",
    "    if init_centers is None:\n",
    "        random_indices=np.random.choice(data.shape[0],K,replace=False)\n",
    "        init_centers=data[random_indices]\n",
    "        return init_centers\n"
   ]
  },
  {
   "cell_type": "code",
   "execution_count": 58,
   "metadata": {},
   "outputs": [],
   "source": [
    "### TODO 2.2\n",
    "### Initialize the labels to all ones to size (N,) where N is the number of data points\n",
    "### Return : np array of size N\n",
    "def initialise_labels(data):\n",
    "    return np.random.randint(0, K, size=data.shape[0])\n"
   ]
  },
  {
   "cell_type": "code",
   "execution_count": 59,
   "metadata": {},
   "outputs": [],
   "source": [
    "### TODO 3.1 : E step\n",
    "### For Each data point, find the distance to each center\n",
    "### Return : np array of size NxK\n",
    "def calculate_distances(data, centers):\n",
    "    distance=np.zeros((data.shape[0],centers.shape[0]))\n",
    "    distance=np.linalg.norm(data[:,np.newaxis,:]-centers[np.newaxis,:,:],axis=2)\n",
    "    return distance\n"
   ]
  },
  {
   "cell_type": "code",
   "execution_count": 60,
   "metadata": {},
   "outputs": [],
   "source": [
    "### TODO 3.2 : E step\n",
    "### For Each data point, assign the label of the nearest center\n",
    "### Return : np array of size N\n",
    "def update_labels(distances):\n",
    "    labels=np.argmin(distances,axis=1)\n",
    "    return labels\n"
   ]
  },
  {
   "cell_type": "code",
   "execution_count": 61,
   "metadata": {},
   "outputs": [],
   "source": [
    "### TODO 4 : M step\n",
    "### Update the centers to the mean of the data points assigned to it\n",
    "### Return : np array of size Kx2\n",
    "def update_centers(data, labels, K):\n",
    "    centers=np.array([data[labels==i].mean(axis=0) for i in range(K)])\n",
    "    return centers\n",
    "\n",
    "\n"
   ]
  },
  {
   "cell_type": "code",
   "execution_count": 62,
   "metadata": {},
   "outputs": [],
   "source": [
    "### TODO 6 : Check convergence\n",
    "### Check if the labels have changed from the previous iteration\n",
    "### Return : True / False\n",
    "def check_termination(labels1, labels2):\n",
    "    if np.array_equal(labels1,labels2):\n",
    "        return True\n",
    "    else:\n",
    "        return False\n"
   ]
  },
  {
   "cell_type": "code",
   "execution_count": 63,
   "metadata": {},
   "outputs": [],
   "source": [
    "### DON'T CHANGE ANYTHING IN THE FOLLOWING FUNCTION\n",
    "def kmeans(data_path:str, K:int, init_centers):\n",
    "    '''\n",
    "    Input :\n",
    "        data (type str): path to the file containing the data\n",
    "        K (type int): number of clusters\n",
    "        init_centers (type numpy.ndarray): initial centers. shape = (K, 2) or None\n",
    "    Output :\n",
    "        centers (type numpy.ndarray): final centers. shape = (K, 2)\n",
    "        labels (type numpy.ndarray): label of each data point. shape = (N,)\n",
    "        time (type float): time taken by the algorithm to converge in seconds\n",
    "    N is the number of data points each of shape (2,)\n",
    "    '''\n",
    "    data = load_data(data_path)    \n",
    "    centers = initialise_centers(data, K, init_centers)\n",
    "    labels = initialise_labels(data)\n",
    "\n",
    "    start_time = time.time() # Time stamp \n",
    "\n",
    "    while True:\n",
    "        distances = calculate_distances(data, centers)\n",
    "        labels_new = update_labels(distances)\n",
    "        centers = update_centers(data, labels_new, K)\n",
    "        if check_termination(labels, labels_new): break\n",
    "        else: labels = labels_new\n",
    " \n",
    "    end_time = time.time() # Time stamp after the algorithm ends\n",
    "    return centers, labels, end_time - start_time "
   ]
  },
  {
   "cell_type": "code",
   "execution_count": 64,
   "metadata": {},
   "outputs": [],
   "source": [
    "### TODO 7\n",
    "def visualise(data_path, labels, centers):\n",
    "    data = load_data(data_path)\n",
    "\n",
    "    # Scatter plot of the data points\n",
    "    plt.scatter(data[:, 0], data[:, 1], c=labels, s=50, cmap='viridis')\n",
    "    plt.scatter(centers[:, 0], centers[:, 1], c='black', s=200, alpha=0.5)\n",
    "\n",
    "    ### TODO 7 : In conclusion\n",
    "    ### Set title as 'K-means clustering'\n",
    "    plt.title('K-means clustering')\n",
    "\n",
    "    ### Set xlabel as 'Longitude'\n",
    "    plt.xlabel('Longitude')\n",
    "\n",
    "    ### Set ylabel as 'Latitude'\n",
    "    plt.ylabel('Latitude')\n",
    "\n",
    "    ### Save the plot as 'kmeans.png'\n",
    "    plt.savefig('kmeans.png')\n",
    "\n",
    "\n",
    "    ## DO NOT CHANGE THE FOLLOWING LINE\n",
    "    return plt"
   ]
  },
  {
   "cell_type": "code",
   "execution_count": 65,
   "metadata": {},
   "outputs": [
    {
     "name": "stdout",
     "output_type": "stream",
     "text": [
      "Time taken for the algorithm to converge: 0.0\n"
     ]
    },
    {
     "data": {
      "text/plain": [
       "<module 'matplotlib.pyplot' from 'C:\\\\Users\\\\VIVEK\\\\AppData\\\\Local\\\\Packages\\\\PythonSoftwareFoundation.Python.3.12_qbz5n2kfra8p0\\\\LocalCache\\\\local-packages\\\\Python312\\\\site-packages\\\\matplotlib\\\\pyplot.py'>"
      ]
     },
     "execution_count": 65,
     "metadata": {},
     "output_type": "execute_result"
    },
    {
     "data": {
      "image/png": "[encoded data removed]",
      "text/plain": [
       "<Figure size 640x480 with 1 Axes>"
      ]
     },
     "metadata": {},
     "output_type": "display_data"
    }
   ],
   "source": [
    "### After you have completed the above functions, run the following code to generate the plot\n",
    "data_path = 'spice_locations.txt'\n",
    "K, init_centers = 2, None\n",
    "centers, labels, time_taken = kmeans(data_path, K, init_centers)\n",
    "print('Time taken for the algorithm to converge:', time_taken)\n",
    "visualise(data_path, labels, centers)"
   ]
  }
 ],
 "metadata": {
  "kernelspec": {
   "display_name": "Python 3",
   "language": "python",
   "name": "python3"
  },
  "language_info": {
   "codemirror_mode": {
    "name": "ipython",
    "version": 3
   },
   "file_extension": ".py",
   "mimetype": "text/x-python",
   "name": "python",
   "nbconvert_exporter": "python",
   "pygments_lexer": "ipython3",
   "version": "3.12.10"
  }
 },
 "nbformat": 4,
 "nbformat_minor": 4
}
